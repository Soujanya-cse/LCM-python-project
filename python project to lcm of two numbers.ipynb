{
 "cells": [
  {
   "cell_type": "code",
   "execution_count": 1,
   "id": "0cfbc77b",
   "metadata": {},
   "outputs": [
    {
     "name": "stdout",
     "output_type": "stream",
     "text": [
      "Enter th evalue of x5\n",
      "Enter the value of y6\n",
      "LCM of 5 and 6 is 30\n"
     ]
    }
   ],
   "source": [
    "x=int(input(\"Enter th evalue of x\"))\n",
    "y=int(input(\"Enter the value of y\"))\n",
    "if x>y:\n",
    "    greater=x\n",
    "else:\n",
    "    greater=y\n",
    "while(True):\n",
    "    if ((greater%x==0)&(greater%y==0)):\n",
    "        lcm=greater\n",
    "        break\n",
    "    greater+=1\n",
    "print(f\"LCM of {x} and {y} is {lcm}\")"
   ]
  },
  {
   "cell_type": "code",
   "execution_count": null,
   "id": "5635aeec",
   "metadata": {},
   "outputs": [],
   "source": []
  }
 ],
 "metadata": {
  "kernelspec": {
   "display_name": "Python 3 (ipykernel)",
   "language": "python",
   "name": "python3"
  },
  "language_info": {
   "codemirror_mode": {
    "name": "ipython",
    "version": 3
   },
   "file_extension": ".py",
   "mimetype": "text/x-python",
   "name": "python",
   "nbconvert_exporter": "python",
   "pygments_lexer": "ipython3",
   "version": "3.9.13"
  }
 },
 "nbformat": 4,
 "nbformat_minor": 5
}
